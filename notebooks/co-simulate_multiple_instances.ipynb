{
 "cells": [
  {
   "cell_type": "code",
   "execution_count": null,
   "id": "3eb46b41-9a60-4262-8f10-5774a85cc25a",
   "metadata": {},
   "outputs": [],
   "source": [
    "import pyfmi\n",
    "import numpy as np\n",
    "from matplotlib import pyplot as plt"
   ]
  },
  {
   "cell_type": "code",
   "execution_count": null,
   "id": "023faa82-2ec2-4ec6-b48d-b6bfd1c2c46f",
   "metadata": {},
   "outputs": [],
   "source": [
    "##PATH TO FMU FILE: \n",
    "pth = \"../fmus/\"\n",
    "fnm = \"hex_delta.fmu\"\n",
    "file_path = pth+fnm\n",
    "print(file_path)"
   ]
  },
  {
   "cell_type": "code",
   "execution_count": null,
   "id": "2b765434-3f85-4c28-8c64-ff473124539c",
   "metadata": {},
   "outputs": [],
   "source": [
    "##Create Multiple Instances of the same model:\n",
    "n_instances = 1\n",
    "fmus=[]\n",
    "for ifmu in range(n_instances):\n",
    "    fmus.append(pyfmi.load_fmu(file_path))"
   ]
  },
  {
   "cell_type": "code",
   "execution_count": null,
   "id": "c0ac1abf-1ea3-485b-bf66-7ee076a75734",
   "metadata": {},
   "outputs": [],
   "source": [
    "def print_variables(fmus):\n",
    "    '''display the variable names and corresponding default values associated with the model:'''\n",
    "    variable_names = fmus[0].get_model_variables().keys()\n",
    "    for variable_name in variable_names:\n",
    "        value = fmus[0].get(variable_name)\n",
    "        print(variable_name + ': '+ str(value))\n",
    "\n",
    "print_variables(fmus)"
   ]
  },
  {
   "cell_type": "code",
   "execution_count": null,
   "id": "cc16d0e5-5a95-4e0d-9a3c-d499c6240365",
   "metadata": {},
   "outputs": [],
   "source": [
    "## Define Connections between the instances:\n",
    "#Here we aim to simulate a counter-flow Heat Exchanger.\n",
    "#Each instance (fmus[i]) corresponds to a portion of the heat exchanger containing two sides.\n",
    "#We assume that the fluid at side 1 enters the system from the first instance (fmus[0])\n",
    "#and flows in the order fmus[0]=>fmus[1]=>...=>fmus[n_instances-1]\n",
    "#the fluid flowing at side 2 enters the system from the last instance (fmus[-1])\n",
    "#and flows in the order fmus[n_instances-1]=>fmus[-2]=>...=>fmus[0]\n",
    "connections = []\n",
    "for ifmu in range(n_instances-1):\n",
    "    connections.append((fmus[ifmu],'T1_out',fmus[ifmu+1],'T1_in'))\n",
    "    connections.append((fmus[ifmu],'m1_out',fmus[ifmu+1],'m1_in'))\n",
    "    connections.append((fmus[ifmu+1],'T2_out',fmus[ifmu],'T2_in'))\n",
    "    connections.append((fmus[ifmu+1],'m2_out',fmus[ifmu],'m2_in'))"
   ]
  },
  {
   "cell_type": "code",
   "execution_count": null,
   "id": "dc855042-5a7c-47b7-a66f-1417fb3d6be9",
   "metadata": {},
   "outputs": [],
   "source": [
    "## SET THE INITIAL CONDITIONS FOR THE OUTPUT TEMPERATURES:\n",
    "T1_ini = 91\n",
    "T2_ini = 68\n",
    "for fmu in fmus:\n",
    "    fmu.set('T1_ini',T1_ini)\n",
    "    fmu.set('T2_ini',T2_ini)"
   ]
  },
  {
   "cell_type": "code",
   "execution_count": null,
   "id": "56ef86f8-3b51-4c85-905b-8d1615f8d8d4",
   "metadata": {},
   "outputs": [],
   "source": [
    "# We assume that each cell contains equal amount of fluid at both sides and\n",
    "# both sides contain 400 kg of fluids in total,\n",
    "mcell1 = fmu.get(\"m1\")/n_instances\n",
    "mcell2 = fmu.get(\"m2\")/n_instances\n",
    "Kcell = fmu.get(\"K\")/n_instances #divide by n_instances since K = A*h, where A is the total area of the HE\n",
    "\n",
    "# Also, we assume that each cell has a heat transfer coefficient of K0/n_instances.\n",
    "for fmu in fmus:\n",
    "    fmu.set('m1',mcell1)\n",
    "    fmu.set('m2',mcell2)\n",
    "    fmu.set('K',Kcell)\n",
    "\n",
    "print_variables(fmus)"
   ]
  },
  {
   "cell_type": "code",
   "execution_count": null,
   "id": "ad4a7778-c91a-4603-a4fe-5e79b3607569",
   "metadata": {},
   "outputs": [],
   "source": [
    "#Define the simulation object\n",
    "coupled_simulation = pyfmi.master.Master(fmus,connections)"
   ]
  },
  {
   "cell_type": "code",
   "execution_count": null,
   "id": "6b798375-f4a5-4f40-b5f0-0616ca0059ed",
   "metadata": {},
   "outputs": [],
   "source": [
    "# Set the Simulation times:\n",
    "step_size = 0.1 \n",
    "final_time = 60.0\n",
    "times = np.arange(0,final_time,step_size)\n",
    "nsteps = len(times)\n",
    "opts = coupled_simulation.simulate_options()\n",
    "opts[\"step_size\"] = step_size"
   ]
  },
  {
   "cell_type": "code",
   "execution_count": null,
   "id": "a9c53997-bb00-44f1-95a8-a0d988243b85",
   "metadata": {},
   "outputs": [],
   "source": [
    "#Create the input object:\n",
    "T1_ins = T1_ini*np.ones(nsteps)\n",
    "T2_ins = T2_ini*np.ones(nsteps)\n",
    "m1_ins = 56*np.ones(nsteps)\n",
    "m2_ins = 46*np.ones(nsteps)\n",
    "u = np.transpose(np.vstack((times ,T1_ins ,T2_ins, m1_ins, m2_ins)))\n",
    "input_labels = [(fmus[0],'T1_in'),(fmus[-1],'T2_in'),(fmus[0],'m1_in'),(fmus[-1],'m2_in')]\n",
    "input_object = (input_labels,u)"
   ]
  },
  {
   "cell_type": "code",
   "execution_count": null,
   "id": "667605fc-1793-4043-875a-08234d4a7453",
   "metadata": {},
   "outputs": [],
   "source": [
    "#Simulate:\n",
    "res = coupled_simulation.simulate(options=opts,input=input_object,start_time=0,final_time=final_time)"
   ]
  },
  {
   "cell_type": "code",
   "execution_count": null,
   "id": "7cf4b7ee-7d23-4bb3-8604-2729e8cf2418",
   "metadata": {},
   "outputs": [],
   "source": [
    "#PLOT THE RESULTS:\n",
    "#res is a dictionary containing outputs for all instances\n",
    "# the keys are integers such that res[i] stores the outputs for fmus[i]\n",
    "#We are interested in output temperatures of the joint system,\n",
    "T1_outs = np.array(res[n_instances-1]['T1_out'])\n",
    "T2_outs = np.array(res[0]['T2_out'])\n",
    "\n",
    "fig,ax = plt.subplots()\n",
    "ax.plot(res[n_instances-1]['time'],T1_outs,'*-',label='T1_out')\n",
    "ax.plot(res[0]['time'],T2_outs,'*-',label='T2_out')\n",
    "ax.grid()\n",
    "plt.xlabel('time(sec)')\n",
    "plt.ylabel('Temperature (°C)')\n",
    "plt.title('Output Temperatures')\n",
    "ax.legend()"
   ]
  },
  {
   "cell_type": "code",
   "execution_count": null,
   "id": "389a8fab-8181-4a59-9bfb-450c30dc2cae",
   "metadata": {},
   "outputs": [],
   "source": []
  }
 ],
 "metadata": {
  "kernelspec": {
   "display_name": "Python 3 (ipykernel)",
   "language": "python",
   "name": "python3"
  },
  "language_info": {
   "codemirror_mode": {
    "name": "ipython",
    "version": 3
   },
   "file_extension": ".py",
   "mimetype": "text/x-python",
   "name": "python",
   "nbconvert_exporter": "python",
   "pygments_lexer": "ipython3",
   "version": "3.11.8"
  }
 },
 "nbformat": 4,
 "nbformat_minor": 5
}
