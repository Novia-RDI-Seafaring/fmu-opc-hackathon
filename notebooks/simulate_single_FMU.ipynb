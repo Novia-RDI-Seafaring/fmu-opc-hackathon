{
 "cells": [
  {
   "cell_type": "code",
   "execution_count": 1,
   "id": "199b7e6d-2095-44c7-aea4-d0c3a3b9aaf2",
   "metadata": {},
   "outputs": [],
   "source": [
    "import pyfmi\n",
    "import numpy as np\n",
    "from matplotlib import pyplot as plt"
   ]
  },
  {
   "cell_type": "code",
   "execution_count": 2,
   "id": "6940db08-8198-481c-88be-d1325cfffbc9",
   "metadata": {},
   "outputs": [
    {
     "name": "stdout",
     "output_type": "stream",
     "text": [
      "../fmus/hx.fmu\n"
     ]
    }
   ],
   "source": [
    "##PATH TO FMU FILE: \n",
    "pth = \"../fmus/\"\n",
    "fnm = \"hx.fmu\"\n",
    "print(pth+fnm)"
   ]
  },
  {
   "cell_type": "code",
   "execution_count": 4,
   "id": "94358f83-5cde-44f1-89ea-c12b7dd46459",
   "metadata": {},
   "outputs": [
    {
     "data": {
      "text/plain": [
       "<pyfmi.fmi.FMUModelCS2 at 0x1fb9f75d170>"
      ]
     },
     "execution_count": 4,
     "metadata": {},
     "output_type": "execute_result"
    }
   ],
   "source": [
    "#CREATE AN FMU model OBJECT:\n",
    "fmu = pyfmi.load_fmu(pth+fnm)\n",
    "fmu"
   ]
  },
  {
   "cell_type": "code",
   "execution_count": 5,
   "id": "c9ca2c92-573c-4c8d-8b36-2699a00ac4bb",
   "metadata": {},
   "outputs": [
    {
     "name": "stdout",
     "output_type": "stream",
     "text": [
      "OrderedDict([('T1_in', <pyfmi.fmi.ScalarVariable2 object at 0x000001FBA08118A0>), ('mdot1_in', <pyfmi.fmi.ScalarVariable2 object at 0x000001FB9F6D9990>), ('T2_in', <pyfmi.fmi.ScalarVariable2 object at 0x000001FBA08FC9A0>), ('mdot2_in', <pyfmi.fmi.ScalarVariable2 object at 0x000001FBA08FD170>), ('T1_out', <pyfmi.fmi.ScalarVariable2 object at 0x000001FBA08FCF90>), ('mdot1_out', <pyfmi.fmi.ScalarVariable2 object at 0x000001FBA08FCA40>), ('T2_out', <pyfmi.fmi.ScalarVariable2 object at 0x000001FBA08FD080>), ('mdot2_out', <pyfmi.fmi.ScalarVariable2 object at 0x000001FBA08FCEA0>), ('A', <pyfmi.fmi.ScalarVariable2 object at 0x000001FBA08FC400>), ('T1_ini', <pyfmi.fmi.ScalarVariable2 object at 0x000001FBA08FC3B0>), ('T2_ini', <pyfmi.fmi.ScalarVariable2 object at 0x000001FBA08FCC20>), ('cp1', <pyfmi.fmi.ScalarVariable2 object at 0x000001FBA08FD120>), ('cp2', <pyfmi.fmi.ScalarVariable2 object at 0x000001FBA08FC310>), ('h', <pyfmi.fmi.ScalarVariable2 object at 0x000001FBA08FCB80>), ('m1', <pyfmi.fmi.ScalarVariable2 object at 0x000001FBA08FCD60>), ('m2', <pyfmi.fmi.ScalarVariable2 object at 0x000001FBA08FD0D0>), ('time', <pyfmi.fmi.ScalarVariable2 object at 0x000001FBA08FCC70>)])\n"
     ]
    }
   ],
   "source": [
    "## LIST THE VARIABLES ASSOCIATED WITH THE MODEL:\n",
    "model_variables = fmu.get_model_variables()\n",
    "print(model_variables)\n",
    "variable_names = fmu.get_model_variables().keys()"
   ]
  },
  {
   "cell_type": "code",
   "execution_count": 6,
   "id": "87d6637a-bc96-4820-80a0-22ca6a61a965",
   "metadata": {},
   "outputs": [
    {
     "name": "stdout",
     "output_type": "stream",
     "text": [
      "T1_in: [0.]\n",
      "mdot1_in: [0.]\n",
      "T2_in: [0.]\n",
      "mdot2_in: [0.]\n",
      "T1_out: [0.]\n",
      "mdot1_out: [0.]\n",
      "T2_out: [0.]\n",
      "mdot2_out: [0.]\n",
      "A: [380.]\n",
      "T1_ini: [68.]\n",
      "T2_ini: [91.]\n",
      "cp1: [4190.]\n",
      "cp2: [4190.]\n",
      "h: [6800.]\n",
      "m1: [400.]\n",
      "m2: [400.]\n",
      "time: [0.]\n"
     ]
    }
   ],
   "source": [
    "## PRINT THE DEFAULT VALUES OF THE VARIABLES STORED IN THE FMU FILE:\n",
    "for variable_name in variable_names:\n",
    "    value = fmu.get(variable_name)\n",
    "    print(variable_name + ': '+ str(value))"
   ]
  },
  {
   "cell_type": "code",
   "execution_count": 7,
   "id": "ca998163-9d8f-4adf-b53c-12f8e46cfd45",
   "metadata": {},
   "outputs": [],
   "source": [
    "## SET THE INITIAL CONDITIONS FOR THE OUTPUT TEMPERATURES:\n",
    "T1_ini = 91\n",
    "fmu.set('T1_ini',T1_ini)\n",
    "T2_ini = 68\n",
    "fmu.set('T2_ini',T2_ini)"
   ]
  },
  {
   "cell_type": "code",
   "execution_count": 8,
   "id": "01a2a680-a343-4c25-a06e-e76aabbe4279",
   "metadata": {},
   "outputs": [],
   "source": [
    "## SETTING THE SIMULATION TIMES:\n",
    "final_time = 20.0 \n",
    "step_size = 0.1\n",
    "nsteps = int(final_time/step_size) #number of time steps\n",
    "times = np.arange(0,final_time,step_size)\n",
    "\n",
    "# SIMULATION OPTIONS\n",
    "opts = fmu.simulate_options()\n",
    "opts[\"ncp\"] = nsteps # number of output points"
   ]
  },
  {
   "cell_type": "code",
   "execution_count": 9,
   "id": "a99a78cb-b6a0-47c4-bd25-dcc29098edef",
   "metadata": {},
   "outputs": [],
   "source": [
    "## DEFINE INPUT OBJECT for SIMULATION\n",
    "T1_ins = T1_ini*np.ones(nsteps)\n",
    "T2_ins = T2_ini*np.ones(nsteps)\n",
    "m1_ins = 56*np.ones(nsteps)\n",
    "m2_ins = 46*np.ones(nsteps)\n",
    "u = np.transpose(np.vstack((times ,T1_ins,T2_ins,m1_ins,m2_ins)))\n",
    "# Simulate the model response , given the initial parameters\n",
    "input_labels = ['T1_in','T2_in','m1','m2']\n",
    "input_object = (input_labels,u)"
   ]
  },
  {
   "cell_type": "code",
   "execution_count": 10,
   "id": "48b62d90-0d91-4e50-aa79-e2ff42f9d463",
   "metadata": {},
   "outputs": [
    {
     "name": "stdout",
     "output_type": "stream",
     "text": [
      "Simulation interval    : 0.0 - 20.000000000000004 seconds.\n",
      "Elapsed simulation time: 0.005725300012272783 seconds.\n"
     ]
    }
   ],
   "source": [
    "#SIMULATE:\n",
    "res = fmu.simulate(final_time=final_time,options=opts, input=input_object)"
   ]
  },
  {
   "cell_type": "code",
   "execution_count": 11,
   "id": "3e7e211b-2ba1-4902-b3d9-ff21cb68e849",
   "metadata": {},
   "outputs": [
    {
     "data": {
      "text/plain": [
       "<matplotlib.legend.Legend at 0x1fba0983f50>"
      ]
     },
     "execution_count": 11,
     "metadata": {},
     "output_type": "execute_result"
    },
    {
     "data": {
      "image/png": "[encoded data removed]",
      "text/plain": [
       "<Figure size 640x480 with 1 Axes>"
      ]
     },
     "metadata": {},
     "output_type": "display_data"
    }
   ],
   "source": [
    "#PLOT THE RESULTS:\n",
    "T1_outs = np.array(res['T1_out'])\n",
    "T2_outs = np.array(res['T2_out'])\n",
    "\n",
    "fig,ax = plt.subplots()\n",
    "ax.plot(res['time'],T1_outs,'*-',label='T1_out')\n",
    "ax.plot(res['time'],T2_outs,'*-',label='T2_out')\n",
    "ax.grid()\n",
    "plt.xlabel('time(sec)')\n",
    "plt.ylabel('Temperature (°C)')\n",
    "plt.title('Output Temperatures')\n",
    "ax.legend()"
   ]
  }
 ],
 "metadata": {
  "kernelspec": {
   "display_name": "Python 3 (ipykernel)",
   "language": "python",
   "name": "python3"
  },
  "language_info": {
   "codemirror_mode": {
    "name": "ipython",
    "version": 3
   },
   "file_extension": ".py",
   "mimetype": "text/x-python",
   "name": "python",
   "nbconvert_exporter": "python",
   "pygments_lexer": "ipython3",
   "version": "3.11.8"
  }
 },
 "nbformat": 4,
 "nbformat_minor": 5
}
