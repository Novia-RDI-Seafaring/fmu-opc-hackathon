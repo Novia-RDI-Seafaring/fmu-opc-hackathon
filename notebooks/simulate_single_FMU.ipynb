{
 "cells": [
  {
   "cell_type": "code",
   "execution_count": null,
   "id": "199b7e6d-2095-44c7-aea4-d0c3a3b9aaf2",
   "metadata": {},
   "outputs": [],
   "source": [
    "import pyfmi\n",
    "import numpy as np\n",
    "from matplotlib import pyplot as plt"
   ]
  },
  {
   "cell_type": "code",
   "execution_count": null,
   "id": "6940db08-8198-481c-88be-d1325cfffbc9",
   "metadata": {},
   "outputs": [],
   "source": [
    "##PATH TO FMU FILE: \n",
    "pth = \"../fmus/\"\n",
    "fnm = \"hex_delta.fmu\"\n",
    "print(pth+fnm)"
   ]
  },
  {
   "cell_type": "code",
   "execution_count": null,
   "id": "94358f83-5cde-44f1-89ea-c12b7dd46459",
   "metadata": {},
   "outputs": [],
   "source": [
    "#CREATE AN FMU model OBJECT:\n",
    "fmu = pyfmi.load_fmu(pth+fnm)\n",
    "fmu"
   ]
  },
  {
   "cell_type": "code",
   "execution_count": null,
   "id": "c9ca2c92-573c-4c8d-8b36-2699a00ac4bb",
   "metadata": {},
   "outputs": [],
   "source": [
    "## LIST THE VARIABLES ASSOCIATED WITH THE MODEL:\n",
    "model_variables = fmu.get_model_variables()\n",
    "print(model_variables)\n",
    "variable_names = fmu.get_model_variables().keys()"
   ]
  },
  {
   "cell_type": "code",
   "execution_count": null,
   "id": "87d6637a-bc96-4820-80a0-22ca6a61a965",
   "metadata": {},
   "outputs": [],
   "source": [
    "## PRINT THE DEFAULT VALUES OF THE VARIABLES STORED IN THE FMU FILE:\n",
    "def print_variables(fmu):\n",
    "    variable_names = fmu.get_model_variables().keys()\n",
    "    for variable_name in variable_names:\n",
    "        value = fmu.get(variable_name)\n",
    "        print(variable_name + ': '+ str(value))\n"
   ]
  },
  {
   "cell_type": "code",
   "execution_count": null,
   "id": "ca998163-9d8f-4adf-b53c-12f8e46cfd45",
   "metadata": {},
   "outputs": [],
   "source": [
    "## SET THE INITIAL CONDITIONS FOR THE OUTPUT TEMPERATURES:\n",
    "T1_ini = 91\n",
    "T2_ini = 68\n",
    "\n",
    "fmu.set('T1_ini',T1_ini)\n",
    "fmu.set('T2_ini',T2_ini)\n",
    "\n",
    "print_variables(fmu)"
   ]
  },
  {
   "cell_type": "code",
   "execution_count": null,
   "id": "01a2a680-a343-4c25-a06e-e76aabbe4279",
   "metadata": {},
   "outputs": [],
   "source": [
    "## SETTING THE SIMULATION TIMES:\n",
    "final_time = 60.0 \n",
    "step_size = .1\n",
    "nsteps = int(final_time/step_size) #number of time steps\n",
    "times = np.arange(0,final_time,step_size)\n",
    "\n",
    "# SIMULATION OPTIONS\n",
    "opts = fmu.simulate_options()\n",
    "opts[\"ncp\"] = nsteps # number of output points"
   ]
  },
  {
   "cell_type": "code",
   "execution_count": null,
   "id": "a99a78cb-b6a0-47c4-bd25-dcc29098edef",
   "metadata": {},
   "outputs": [],
   "source": [
    "## DEFINE INPUT OBJECT for SIMULATION\n",
    "T1_ins = T1_ini*np.ones(nsteps)\n",
    "T2_ins = T2_ini*np.ones(nsteps)\n",
    "m1_ins = 56*np.ones(nsteps)\n",
    "m2_ins = 46*np.ones(nsteps)\n",
    "u = np.transpose(np.vstack((times,T1_ins,T2_ins,m1_ins,m2_ins)))\n",
    "# Simulate the model response , given the initial parameters\n",
    "input_labels = ['T1_in','T2_in','m1_in','m2_in']\n",
    "input_object = (input_labels,u)"
   ]
  },
  {
   "cell_type": "code",
   "execution_count": null,
   "id": "48b62d90-0d91-4e50-aa79-e2ff42f9d463",
   "metadata": {},
   "outputs": [],
   "source": [
    "#SIMULATE:\n",
    "res = fmu.simulate(final_time=final_time,options=opts, input=input_object)"
   ]
  },
  {
   "cell_type": "code",
   "execution_count": null,
   "id": "3e7e211b-2ba1-4902-b3d9-ff21cb68e849",
   "metadata": {},
   "outputs": [],
   "source": [
    "#PLOT THE RESULTS:\n",
    "T1_outs = np.array(res['T1_out'])\n",
    "T2_outs = np.array(res['T2_out'])\n",
    "\n",
    "fig,ax = plt.subplots()\n",
    "ax.plot(res['time'],T1_outs,'*-',label='T1_out')\n",
    "ax.plot(res['time'],T2_outs,'*-',label='T2_out')\n",
    "ax.grid()\n",
    "plt.xlabel('time(sec)')\n",
    "plt.ylabel('Temperature (°C)')\n",
    "plt.title('Output Temperatures')\n",
    "ax.legend()"
   ]
  }
 ],
 "metadata": {
  "kernelspec": {
   "display_name": "Python 3 (ipykernel)",
   "language": "python",
   "name": "python3"
  },
  "language_info": {
   "codemirror_mode": {
    "name": "ipython",
    "version": 3
   },
   "file_extension": ".py",
   "mimetype": "text/x-python",
   "name": "python",
   "nbconvert_exporter": "python",
   "pygments_lexer": "ipython3",
   "version": "3.11.8"
  }
 },
 "nbformat": 4,
 "nbformat_minor": 5
}
